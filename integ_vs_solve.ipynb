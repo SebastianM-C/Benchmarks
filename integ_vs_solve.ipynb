{
  "cells": [
    {
      "cell_type": "code",
      "source": [
        "]activate ."
      ],
      "outputs": [],
      "execution_count": 1,
      "metadata": {
        "collapsed": false,
        "outputHidden": false,
        "inputHidden": false
      }
    },
    {
      "cell_type": "code",
      "source": [
        "using DifferentialEquations\n",
        "using StaticArrays\n",
        "using BenchmarkTools\n",
        "\n",
        "@inbounds @inline function ż(z, p, t)\n",
        "    A, B, D = p\n",
        "    p₀, p₂ = z[SVector{2}(1:2)]\n",
        "    q₀, q₂ = z[SVector{2}(3:4)]\n",
        "\n",
        "    return SVector{4}(\n",
        "        -A * q₀ - 3 * B / √2 * (q₂^2 - q₀^2) - D * q₀ * (q₀^2 + q₂^2),\n",
        "        -q₂ * (A + 3 * √2 * B * q₀ + D * (q₀^2 + q₂^2)),\n",
        "        A * p₀,\n",
        "        A * p₂\n",
        "    )\n",
        "end\n",
        "\n",
        "@inbounds @inline function ṗ(p, q, params, t)\n",
        "    A, B, D = params\n",
        "    dp1 = -A * q[1] - 3 * B / √2 * (q[2]^2 - q[1]^2) - D * q[1] * (q[1]^2 + q[2]^2)\n",
        "    dp2 = -q[2] * (A + 3 * √2 * B * q[1] + D * (q[1]^2 + q[2]^2))\n",
        "    return SVector{2}(dp1, dp2)\n",
        "end\n",
        "\n",
        "@inbounds @inline function q̇(p, q, params, t)\n",
        "    params.A * p\n",
        "end"
      ],
      "outputs": [
        {
          "output_type": "execute_result",
          "execution_count": 2,
          "data": {
            "text/plain": [
              "q̇ (generic function with 1 method)"
            ]
          },
          "metadata": {}
        }
      ],
      "execution_count": 2,
      "metadata": {
        "collapsed": false,
        "outputHidden": false,
        "inputHidden": false
      }
    },
    {
      "cell_type": "code",
      "source": [
        "q0 = SVector{2}([0.0, -4.363920590485035])\n",
        "p0 = SVector{2}([10.923918825236079, -5.393598858645495])\n",
        "z0 = vcat(p0, q0)\n",
        "p = (A=1,B=0.55,D=0.4)\n",
        "\ntspan = (0., 10.)"
      ],
      "outputs": [
        {
          "output_type": "execute_result",
          "execution_count": 3,
          "data": {
            "text/plain": [
              "(0.0, 10.0)"
            ]
          },
          "metadata": {}
        }
      ],
      "execution_count": 3,
      "metadata": {
        "collapsed": false,
        "outputHidden": false,
        "inputHidden": false
      }
    },
    {
      "cell_type": "code",
      "source": [
        "prob1 = ODEProblem(ż, z0, tspan, p)\n",
        "prob2 = DynamicalODEProblem(ṗ, q̇, p0, q0, tspan, p)"
      ],
      "outputs": [
        {
          "output_type": "execute_result",
          "execution_count": 4,
          "data": {
            "text/plain": [
              "\u001b[36mODEProblem\u001b[0m with uType \u001b[36mTuple{SArray{Tuple{2},Float64,1,2},SArray{Tuple{2},Float64,1,2}}\u001b[0m and tType \u001b[36mFloat64\u001b[0m. In-place: \u001b[36mfalse\u001b[0m\n",
              "timespan: (0.0, 10.0)\n",
              "u0: ([10.9239, -5.3936], [0.0, -4.36392])"
            ]
          },
          "metadata": {}
        }
      ],
      "execution_count": 4,
      "metadata": {
        "collapsed": false,
        "outputHidden": false,
        "inputHidden": false
      }
    },
    {
      "cell_type": "code",
      "source": [
        "@btime solve($prob1, Vern9(), abstol=1e-14, reltol=1e-14);\n",
        "@btime solve($prob2, DPRKN12(), abstol=1e-14, reltol=1e-14);\n",
        "@btime solve($prob2, KahanLi8(), dt=1e-2, maxiters=1e10);"
      ],
      "outputs": [
        {
          "output_type": "stream",
          "name": "stdout",
          "text": [
            "  855.046 μs (39946 allocations: 1.55 MiB)\n",
            "  369.494 μs (17753 allocations: 534.38 KiB)\n",
            "  1.523 ms (110196 allocations: 3.05 MiB)\n"
          ]
        }
      ],
      "execution_count": 5,
      "metadata": {
        "collapsed": false,
        "outputHidden": false,
        "inputHidden": false
      }
    },
    {
      "cell_type": "code",
      "source": [
        "@btime solve($prob1, Vern9(), abstol=1e-14, reltol=1e-14, save_everystep=false);\n",
        "@btime solve($prob2, DPRKN12(), abstol=1e-14, reltol=1e-14, save_everystep=false);\n",
        "@btime solve($prob2, KahanLi8(), dt=1e-2, maxiters=1e10, save_everystep=false);"
      ],
      "outputs": [
        {
          "output_type": "stream",
          "name": "stdout",
          "text": [
            "  792.279 μs (38974 allocations: 1.21 MiB)\n",
            "  354.098 μs (17439 allocations: 463.05 KiB)\n",
            "  1.425 ms (108191 allocations: 2.76 MiB)\n"
          ]
        }
      ],
      "execution_count": 6,
      "metadata": {
        "collapsed": false,
        "outputHidden": false,
        "inputHidden": false
      }
    },
    {
      "cell_type": "code",
      "source": [
        "function step_integ(integ, t)\n",
        "    while integ.t < t\n",
        "        step!(integ)\n",
        "    end\n",
        "end"
      ],
      "outputs": [
        {
          "output_type": "execute_result",
          "execution_count": 7,
          "data": {
            "text/plain": [
              "step_integ (generic function with 1 method)"
            ]
          },
          "metadata": {}
        }
      ],
      "execution_count": 7,
      "metadata": {
        "collapsed": false,
        "outputHidden": false,
        "inputHidden": false
      }
    },
    {
      "cell_type": "code",
      "source": [
        "@btime init($prob1, Vern9(), abstol=1e-14, reltol=1e-14)\n",
        "@btime step_integ(integ1, $tspan[2]) setup=(integ1=init($prob1, Vern9(), abstol=1e-14, reltol=1e-14))\n",
        "@btime init($prob2, DPRKN12(), abstol=1e-14, reltol=1e-14)\n",
        "@btime step_integ(integ2, $tspan[2]) setup=(integ2=init($prob2, DPRKN12(), abstol=1e-14, reltol=1e-14))\n",
        "@btime init($prob2, KahanLi8(), dt=1e-2, maxiters=1e10)\n",
        "@btime step_integ(integ3, $tspan[2]) setup=(integ3=init($prob2, KahanLi8(), dt=1e-2, maxiters=1e10))"
      ],
      "outputs": [
        {
          "output_type": "stream",
          "name": "stdout",
          "text": [
            "  7.500 μs (86 allocations: 65.16 KiB)\n",
            "  18.313 μs (866 allocations: 33.02 KiB)\n",
            "  7.632 μs (95 allocations: 57.94 KiB)\n",
            "  1.814 μs (88 allocations: 2.38 KiB)\n",
            "  5.000 μs (79 allocations: 53.03 KiB)\n",
            "  146.810 μs (11011 allocations: 306.58 KiB)\n"
          ]
        }
      ],
      "execution_count": 9,
      "metadata": {
        "collapsed": false,
        "outputHidden": false,
        "inputHidden": false
      }
    },
    {
      "cell_type": "code",
      "source": [
        "tspan = (0., 100.)\n",
        "prob1 = ODEProblem(ż, z0, tspan, p)\n",
        "prob2 = DynamicalODEProblem(ṗ, q̇, p0, q0, tspan, p)"
      ],
      "outputs": [
        {
          "output_type": "execute_result",
          "execution_count": 10,
          "data": {
            "text/plain": [
              "\u001b[36mODEProblem\u001b[0m with uType \u001b[36mTuple{SArray{Tuple{2},Float64,1,2},SArray{Tuple{2},Float64,1,2}}\u001b[0m and tType \u001b[36mFloat64\u001b[0m. In-place: \u001b[36mfalse\u001b[0m\n",
              "timespan: (0.0, 100.0)\n",
              "u0: ([10.9239, -5.3936], [0.0, -4.36392])"
            ]
          },
          "metadata": {}
        }
      ],
      "execution_count": 10,
      "metadata": {
        "collapsed": false,
        "outputHidden": false,
        "inputHidden": false
      }
    },
    {
      "cell_type": "code",
      "source": [
        "@btime solve($prob1, Vern9(), abstol=1e-14, reltol=1e-14, save_everystep=false);\n",
        "@btime solve($prob2, DPRKN12(), abstol=1e-14, reltol=1e-14, save_everystep=false);\n",
        "@btime solve($prob2, KahanLi8(), dt=1e-2, maxiters=1e10, save_everystep=false);"
      ],
      "outputs": [
        {
          "output_type": "stream",
          "name": "stdout",
          "text": [
            "  7.979 ms (386012 allocations: 11.80 MiB)\n",
            "  3.513 ms (173906 allocations: 4.43 MiB)\n",
            "  16.902 ms (1080082 allocations: 27.47 MiB)\n"
          ]
        }
      ],
      "execution_count": 11,
      "metadata": {
        "collapsed": false,
        "outputHidden": false,
        "inputHidden": false
      }
    },
    {
      "cell_type": "code",
      "source": [
        "@btime init($prob1, Vern9(), abstol=1e-14, reltol=1e-14)\n",
        "@btime step_integ(integ1, $tspan[2]) setup=(integ1=init($prob1, Vern9(), abstol=1e-14, reltol=1e-14))\n",
        "@btime init($prob2, DPRKN12(), abstol=1e-14, reltol=1e-14)\n",
        "@btime step_integ(integ2, $tspan[2]) setup=(integ2=init($prob2, DPRKN12(), abstol=1e-14, reltol=1e-14))\n",
        "@btime init($prob2, KahanLi8(), dt=1e-2, maxiters=1e10)\n",
        "@btime step_integ(integ3, $tspan[2]) setup=(integ3=init($prob2, KahanLi8(), dt=1e-2, maxiters=1e10))"
      ],
      "outputs": [
        {
          "output_type": "stream",
          "name": "stdout",
          "text": [
            "  7.501 μs (86 allocations: 65.16 KiB)\n",
            "  8.545 ms (395577 allocations: 15.36 MiB)\n",
            "  7.632 μs (94 allocations: 57.84 KiB)\n",
            "  451.505 μs (22113 allocations: 607.76 KiB)\n",
            "  9.869 μs (78 allocations: 474.81 KiB)\n",
            "  18.072 ms (1100000 allocations: 28.99 MiB)\n"
          ]
        }
      ],
      "execution_count": 12,
      "metadata": {
        "collapsed": false,
        "outputHidden": false,
        "inputHidden": false
      }
    },
    {
      "cell_type": "code",
      "source": [],
      "outputs": [],
      "execution_count": null,
      "metadata": {
        "collapsed": false,
        "outputHidden": false,
        "inputHidden": false
      }
    }
  ],
  "metadata": {
    "kernel_info": {
      "name": "julia-1.0"
    },
    "language_info": {
      "file_extension": ".jl",
      "name": "julia",
      "mimetype": "application/julia",
      "version": "1.0.1"
    },
    "kernelspec": {
      "name": "julia-1.0",
      "language": "julia",
      "display_name": "Julia 1.0.1"
    },
    "nteract": {
      "version": "0.11.9"
    }
  },
  "nbformat": 4,
  "nbformat_minor": 4
}